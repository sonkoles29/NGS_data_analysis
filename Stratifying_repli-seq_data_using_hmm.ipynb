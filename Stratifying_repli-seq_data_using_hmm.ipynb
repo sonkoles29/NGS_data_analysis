{
 "cells": [
  {
   "cell_type": "code",
   "execution_count": 1,
   "id": "52e5955c-f851-4e99-ae20-179d6672845d",
   "metadata": {},
   "outputs": [],
   "source": [
    "import os\n",
    "import glob\n",
    "import functools as ft\n",
    "import numpy as np\n",
    "import pandas as pd\n",
    "import matplotlib as mpl\n",
    "import matplotlib.pyplot as plt\n",
    "from hmmlearn import hmm"
   ]
  },
  {
   "cell_type": "markdown",
   "id": "74132a34-d82b-44d9-a8f5-8dd97c6dfc42",
   "metadata": {},
   "source": [
    "## Set plotting parameters"
   ]
  },
  {
   "cell_type": "code",
   "execution_count": 2,
   "id": "f82be2c4-e7de-4175-8863-fa7247d3d6c6",
   "metadata": {},
   "outputs": [],
   "source": [
    "mpl.rcParams.update({'pdf.fonttype': 42,\n",
    "                     'ps.fonttype': 42,\n",
    "                     'xtick.labelsize': 18,\n",
    "                     'ytick.labelsize': 18, \n",
    "                     'axes.labelsize':18,\n",
    "                     'font.size': 18})"
   ]
  },
  {
   "cell_type": "markdown",
   "id": "bb445a97-f222-4084-bf43-685d257c3265",
   "metadata": {},
   "source": [
    "## Upload the Repli-seq data"
   ]
  },
  {
   "cell_type": "code",
   "execution_count": 3,
   "id": "b3208d5f-954d-48cd-a543-8d5cfe16cffe",
   "metadata": {},
   "outputs": [
    {
     "data": {
      "text/html": [
       "<div>\n",
       "<style scoped>\n",
       "    .dataframe tbody tr th:only-of-type {\n",
       "        vertical-align: middle;\n",
       "    }\n",
       "\n",
       "    .dataframe tbody tr th {\n",
       "        vertical-align: top;\n",
       "    }\n",
       "\n",
       "    .dataframe thead th {\n",
       "        text-align: right;\n",
       "    }\n",
       "</style>\n",
       "<table border=\"1\" class=\"dataframe\">\n",
       "  <thead>\n",
       "    <tr style=\"text-align: right;\">\n",
       "      <th></th>\n",
       "      <th>chrom</th>\n",
       "      <th>start</th>\n",
       "      <th>end</th>\n",
       "      <th>S0</th>\n",
       "      <th>S1</th>\n",
       "      <th>S2</th>\n",
       "      <th>S3</th>\n",
       "      <th>S4</th>\n",
       "      <th>S5</th>\n",
       "    </tr>\n",
       "  </thead>\n",
       "  <tbody>\n",
       "    <tr>\n",
       "      <th>0</th>\n",
       "      <td>chr1</td>\n",
       "      <td>0</td>\n",
       "      <td>50000</td>\n",
       "      <td>-0.733940</td>\n",
       "      <td>-0.034461</td>\n",
       "      <td>0.612460</td>\n",
       "      <td>0.268444</td>\n",
       "      <td>-0.145488</td>\n",
       "      <td>-0.795857</td>\n",
       "    </tr>\n",
       "    <tr>\n",
       "      <th>1</th>\n",
       "      <td>chr1</td>\n",
       "      <td>50000</td>\n",
       "      <td>100000</td>\n",
       "      <td>-1.034000</td>\n",
       "      <td>0.207312</td>\n",
       "      <td>0.543859</td>\n",
       "      <td>0.282782</td>\n",
       "      <td>-0.424148</td>\n",
       "      <td>-0.894782</td>\n",
       "    </tr>\n",
       "    <tr>\n",
       "      <th>2</th>\n",
       "      <td>chr1</td>\n",
       "      <td>100000</td>\n",
       "      <td>150000</td>\n",
       "      <td>0.223455</td>\n",
       "      <td>0.681823</td>\n",
       "      <td>0.850604</td>\n",
       "      <td>0.469693</td>\n",
       "      <td>-0.191618</td>\n",
       "      <td>-0.443650</td>\n",
       "    </tr>\n",
       "    <tr>\n",
       "      <th>3</th>\n",
       "      <td>chr1</td>\n",
       "      <td>150000</td>\n",
       "      <td>200000</td>\n",
       "      <td>-0.232756</td>\n",
       "      <td>-0.021948</td>\n",
       "      <td>0.070350</td>\n",
       "      <td>-0.180133</td>\n",
       "      <td>-0.938586</td>\n",
       "      <td>-1.214250</td>\n",
       "    </tr>\n",
       "    <tr>\n",
       "      <th>4</th>\n",
       "      <td>chr1</td>\n",
       "      <td>200000</td>\n",
       "      <td>250000</td>\n",
       "      <td>-0.271484</td>\n",
       "      <td>0.324185</td>\n",
       "      <td>0.559317</td>\n",
       "      <td>0.268511</td>\n",
       "      <td>-0.479499</td>\n",
       "      <td>-0.835541</td>\n",
       "    </tr>\n",
       "    <tr>\n",
       "      <th>...</th>\n",
       "      <td>...</td>\n",
       "      <td>...</td>\n",
       "      <td>...</td>\n",
       "      <td>...</td>\n",
       "      <td>...</td>\n",
       "      <td>...</td>\n",
       "      <td>...</td>\n",
       "      <td>...</td>\n",
       "      <td>...</td>\n",
       "    </tr>\n",
       "    <tr>\n",
       "      <th>57025</th>\n",
       "      <td>chrX</td>\n",
       "      <td>155000000</td>\n",
       "      <td>155050000</td>\n",
       "      <td>-1.079980</td>\n",
       "      <td>-0.628126</td>\n",
       "      <td>0.087571</td>\n",
       "      <td>0.208655</td>\n",
       "      <td>0.045926</td>\n",
       "      <td>-0.823424</td>\n",
       "    </tr>\n",
       "    <tr>\n",
       "      <th>57026</th>\n",
       "      <td>chrX</td>\n",
       "      <td>155050000</td>\n",
       "      <td>155100000</td>\n",
       "      <td>-0.724857</td>\n",
       "      <td>-0.638234</td>\n",
       "      <td>-0.035306</td>\n",
       "      <td>0.306479</td>\n",
       "      <td>-0.316973</td>\n",
       "      <td>-0.665632</td>\n",
       "    </tr>\n",
       "    <tr>\n",
       "      <th>57027</th>\n",
       "      <td>chrX</td>\n",
       "      <td>155100000</td>\n",
       "      <td>155150000</td>\n",
       "      <td>-0.950276</td>\n",
       "      <td>-0.290657</td>\n",
       "      <td>0.112241</td>\n",
       "      <td>0.229828</td>\n",
       "      <td>0.094687</td>\n",
       "      <td>-0.723975</td>\n",
       "    </tr>\n",
       "    <tr>\n",
       "      <th>57028</th>\n",
       "      <td>chrX</td>\n",
       "      <td>155150000</td>\n",
       "      <td>155200000</td>\n",
       "      <td>-1.371700</td>\n",
       "      <td>-0.593548</td>\n",
       "      <td>0.107713</td>\n",
       "      <td>0.251813</td>\n",
       "      <td>-0.169051</td>\n",
       "      <td>-0.627834</td>\n",
       "    </tr>\n",
       "    <tr>\n",
       "      <th>57029</th>\n",
       "      <td>chrX</td>\n",
       "      <td>155200000</td>\n",
       "      <td>155270560</td>\n",
       "      <td>-0.740996</td>\n",
       "      <td>-0.728634</td>\n",
       "      <td>0.426067</td>\n",
       "      <td>0.493366</td>\n",
       "      <td>-0.009778</td>\n",
       "      <td>-0.872535</td>\n",
       "    </tr>\n",
       "  </tbody>\n",
       "</table>\n",
       "<p>56900 rows × 9 columns</p>\n",
       "</div>"
      ],
      "text/plain": [
       "      chrom      start        end        S0        S1        S2        S3  \\\n",
       "0      chr1          0      50000 -0.733940 -0.034461  0.612460  0.268444   \n",
       "1      chr1      50000     100000 -1.034000  0.207312  0.543859  0.282782   \n",
       "2      chr1     100000     150000  0.223455  0.681823  0.850604  0.469693   \n",
       "3      chr1     150000     200000 -0.232756 -0.021948  0.070350 -0.180133   \n",
       "4      chr1     200000     250000 -0.271484  0.324185  0.559317  0.268511   \n",
       "...     ...        ...        ...       ...       ...       ...       ...   \n",
       "57025  chrX  155000000  155050000 -1.079980 -0.628126  0.087571  0.208655   \n",
       "57026  chrX  155050000  155100000 -0.724857 -0.638234 -0.035306  0.306479   \n",
       "57027  chrX  155100000  155150000 -0.950276 -0.290657  0.112241  0.229828   \n",
       "57028  chrX  155150000  155200000 -1.371700 -0.593548  0.107713  0.251813   \n",
       "57029  chrX  155200000  155270560 -0.740996 -0.728634  0.426067  0.493366   \n",
       "\n",
       "             S4        S5  \n",
       "0     -0.145488 -0.795857  \n",
       "1     -0.424148 -0.894782  \n",
       "2     -0.191618 -0.443650  \n",
       "3     -0.938586 -1.214250  \n",
       "4     -0.479499 -0.835541  \n",
       "...         ...       ...  \n",
       "57025  0.045926 -0.823424  \n",
       "57026 -0.316973 -0.665632  \n",
       "57027  0.094687 -0.723975  \n",
       "57028 -0.169051 -0.627834  \n",
       "57029 -0.009778 -0.872535  \n",
       "\n",
       "[56900 rows x 9 columns]"
      ]
     },
     "execution_count": 3,
     "metadata": {},
     "output_type": "execute_result"
    }
   ],
   "source": [
    "# the repli-seq data are from Dellino et al., 2013\n",
    "path = r'./repli-seq/Dellino2013/deeptools/'\n",
    "all_files = glob.glob(os.path.join(path , \"*.bedGraph\"))\n",
    "\n",
    "dfs = []\n",
    "\n",
    "for i, filename in enumerate(all_files):\n",
    "    df = pd.read_csv(filename, sep = '\\t', header = None, index_col = False)\n",
    "    df.columns = [\"chrom\", \"start\", \"end\", f\"S{i}\"]\n",
    "    df = df [(df.chrom != 'chrM') & (df.chrom != 'chrY')]\n",
    "    dfs.append(df)\n",
    "    \n",
    "df_final = ft.reduce(lambda left, right: pd.merge(left, right, on=['chrom','start','end'], how='left'), dfs)\n",
    "df_final = df_final.drop_duplicates(['chrom','start','end'])\n",
    "df_final.dropna(inplace = True)\n",
    "df_final"
   ]
  },
  {
   "cell_type": "markdown",
   "id": "17c0f89b-77ac-4522-bad4-c03f8c1a2b6d",
   "metadata": {},
   "source": [
    "## Build the HMM model "
   ]
  },
  {
   "cell_type": "code",
   "execution_count": 4,
   "id": "519d1078-20d0-43be-a85a-00a06c3519f0",
   "metadata": {},
   "outputs": [],
   "source": [
    "np.random.seed(42)"
   ]
  },
  {
   "cell_type": "code",
   "execution_count": 5,
   "id": "0d557ab7-c1e5-4f88-86e8-43744adfb63b",
   "metadata": {},
   "outputs": [],
   "source": [
    "# Use the repli-seq values for each timepoint as the observed measurements X.\n",
    "X = df_final[['S0', 'S1', 'S2', 'S3', 'S4', 'S5']].values"
   ]
  },
  {
   "cell_type": "code",
   "execution_count": 6,
   "id": "fb50d889-2969-4cc7-992e-a1e076011d8b",
   "metadata": {},
   "outputs": [
    {
     "name": "stderr",
     "output_type": "stream",
     "text": [
      "Even though the 'startprob_' attribute is set, it will be overwritten during initialization because 'init_params' contains 's'\n",
      "/users/sofia.kolesnikova/.local/lib/python3.9/site-packages/sklearn/cluster/_kmeans.py:870: FutureWarning: The default value of `n_init` will change from 10 to 'auto' in 1.4. Set the value of `n_init` explicitly to suppress the warning\n",
      "  warnings.warn(\n"
     ]
    },
    {
     "data": {
      "text/html": [
       "<style>#sk-container-id-1 {color: black;background-color: white;}#sk-container-id-1 pre{padding: 0;}#sk-container-id-1 div.sk-toggleable {background-color: white;}#sk-container-id-1 label.sk-toggleable__label {cursor: pointer;display: block;width: 100%;margin-bottom: 0;padding: 0.3em;box-sizing: border-box;text-align: center;}#sk-container-id-1 label.sk-toggleable__label-arrow:before {content: \"▸\";float: left;margin-right: 0.25em;color: #696969;}#sk-container-id-1 label.sk-toggleable__label-arrow:hover:before {color: black;}#sk-container-id-1 div.sk-estimator:hover label.sk-toggleable__label-arrow:before {color: black;}#sk-container-id-1 div.sk-toggleable__content {max-height: 0;max-width: 0;overflow: hidden;text-align: left;background-color: #f0f8ff;}#sk-container-id-1 div.sk-toggleable__content pre {margin: 0.2em;color: black;border-radius: 0.25em;background-color: #f0f8ff;}#sk-container-id-1 input.sk-toggleable__control:checked~div.sk-toggleable__content {max-height: 200px;max-width: 100%;overflow: auto;}#sk-container-id-1 input.sk-toggleable__control:checked~label.sk-toggleable__label-arrow:before {content: \"▾\";}#sk-container-id-1 div.sk-estimator input.sk-toggleable__control:checked~label.sk-toggleable__label {background-color: #d4ebff;}#sk-container-id-1 div.sk-label input.sk-toggleable__control:checked~label.sk-toggleable__label {background-color: #d4ebff;}#sk-container-id-1 input.sk-hidden--visually {border: 0;clip: rect(1px 1px 1px 1px);clip: rect(1px, 1px, 1px, 1px);height: 1px;margin: -1px;overflow: hidden;padding: 0;position: absolute;width: 1px;}#sk-container-id-1 div.sk-estimator {font-family: monospace;background-color: #f0f8ff;border: 1px dotted black;border-radius: 0.25em;box-sizing: border-box;margin-bottom: 0.5em;}#sk-container-id-1 div.sk-estimator:hover {background-color: #d4ebff;}#sk-container-id-1 div.sk-parallel-item::after {content: \"\";width: 100%;border-bottom: 1px solid gray;flex-grow: 1;}#sk-container-id-1 div.sk-label:hover label.sk-toggleable__label {background-color: #d4ebff;}#sk-container-id-1 div.sk-serial::before {content: \"\";position: absolute;border-left: 1px solid gray;box-sizing: border-box;top: 0;bottom: 0;left: 50%;z-index: 0;}#sk-container-id-1 div.sk-serial {display: flex;flex-direction: column;align-items: center;background-color: white;padding-right: 0.2em;padding-left: 0.2em;position: relative;}#sk-container-id-1 div.sk-item {position: relative;z-index: 1;}#sk-container-id-1 div.sk-parallel {display: flex;align-items: stretch;justify-content: center;background-color: white;position: relative;}#sk-container-id-1 div.sk-item::before, #sk-container-id-1 div.sk-parallel-item::before {content: \"\";position: absolute;border-left: 1px solid gray;box-sizing: border-box;top: 0;bottom: 0;left: 50%;z-index: -1;}#sk-container-id-1 div.sk-parallel-item {display: flex;flex-direction: column;z-index: 1;position: relative;background-color: white;}#sk-container-id-1 div.sk-parallel-item:first-child::after {align-self: flex-end;width: 50%;}#sk-container-id-1 div.sk-parallel-item:last-child::after {align-self: flex-start;width: 50%;}#sk-container-id-1 div.sk-parallel-item:only-child::after {width: 0;}#sk-container-id-1 div.sk-dashed-wrapped {border: 1px dashed gray;margin: 0 0.4em 0.5em 0.4em;box-sizing: border-box;padding-bottom: 0.4em;background-color: white;}#sk-container-id-1 div.sk-label label {font-family: monospace;font-weight: bold;display: inline-block;line-height: 1.2em;}#sk-container-id-1 div.sk-label-container {text-align: center;}#sk-container-id-1 div.sk-container {/* jupyter's `normalize.less` sets `[hidden] { display: none; }` but bootstrap.min.css set `[hidden] { display: none !important; }` so we also need the `!important` here to be able to override the default hidden behavior on the sphinx rendered scikit-learn.org. See: https://github.com/scikit-learn/scikit-learn/issues/21755 */display: inline-block !important;position: relative;}#sk-container-id-1 div.sk-text-repr-fallback {display: none;}</style><div id=\"sk-container-id-1\" class=\"sk-top-container\"><div class=\"sk-text-repr-fallback\"><pre>GaussianHMM(init_params=&#x27;mcs&#x27;, n_components=6, n_iter=50, random_state=42)</pre><b>In a Jupyter environment, please rerun this cell to show the HTML representation or trust the notebook. <br />On GitHub, the HTML representation is unable to render, please try loading this page with nbviewer.org.</b></div><div class=\"sk-container\" hidden><div class=\"sk-item\"><div class=\"sk-estimator sk-toggleable\"><input class=\"sk-toggleable__control sk-hidden--visually\" id=\"sk-estimator-id-1\" type=\"checkbox\" checked><label for=\"sk-estimator-id-1\" class=\"sk-toggleable__label sk-toggleable__label-arrow\">GaussianHMM</label><div class=\"sk-toggleable__content\"><pre>GaussianHMM(init_params=&#x27;mcs&#x27;, n_components=6, n_iter=50, random_state=42)</pre></div></div></div></div></div>"
      ],
      "text/plain": [
       "GaussianHMM(init_params='mcs', n_components=6, n_iter=50, random_state=42)"
      ]
     },
     "execution_count": 6,
     "metadata": {},
     "output_type": "execute_result"
    }
   ],
   "source": [
    "# Build the HMM model and fit to the repli-seq data.\n",
    "# My six repli-seq datasets are six consecutive S-phase cell populations with BrdU-labeled DNA. \n",
    "# Hence I will fit the repli-seq values to a Gaussian emissions model with 6 hidden states. \n",
    "model = hmm.GaussianHMM(n_components=6,\n",
    "                        covariance_type = \"diag\",\n",
    "                        n_iter = 50,\n",
    "                        random_state = 42,\n",
    "                        init_params=\"mcs\")\n",
    "# I next defined the starting probabilities and transition matrix based on the knowledge of the repli-seq method. \n",
    "# States have the same starting probabilities\n",
    "model.startprob_ = np.array([1/6, 1/6, 1/6, 1/6, 1/6, 1/6])\n",
    "# Early replicating state \n",
    "model.transmat_ = np.array([[0.5, 0.5, 0., 0., 0., 0.],\n",
    "                            [1/3, 1/3, 1/3, 0., 0., 0.],\n",
    "                            [0., 1/3, 1/3, 1/3, 0., 0.],\n",
    "                           [0., 0., 1/3, 1/3, 1/3, 0.],\n",
    "                           [0., 0., 0., 1/3, 1/3, 1/3],\n",
    "                           [0., 0., 0., 0., 0.5, 0.5]])\n",
    "model.fit(X)"
   ]
  },
  {
   "cell_type": "code",
   "execution_count": 7,
   "id": "9dd41abc-e878-49b3-abdd-6ded766bb00a",
   "metadata": {},
   "outputs": [
    {
     "name": "stdout",
     "output_type": "stream",
     "text": [
      "[3 4 5 2 1 0]\n"
     ]
    }
   ],
   "source": [
    "# Predict the hidden states corresponding to observed X\n",
    "Z = model.predict(X)\n",
    "states = pd.unique(Z)\n",
    "print (states)"
   ]
  },
  {
   "cell_type": "code",
   "execution_count": 8,
   "id": "210b28ef-252e-4254-94c1-61b065f865cd",
   "metadata": {},
   "outputs": [],
   "source": [
    "# add the predicted states to the initial repli-seq data\n",
    "df_final ['state'] = Z"
   ]
  },
  {
   "cell_type": "markdown",
   "id": "e23b8a37-fad8-430b-9b07-907f8c4ad7d8",
   "metadata": {},
   "source": [
    "## Visualize the results"
   ]
  },
  {
   "cell_type": "code",
   "execution_count": 9,
   "id": "2dcd8802-db67-4c72-8721-c9adf2a46e7d",
   "metadata": {},
   "outputs": [
    {
     "data": {
      "text/plain": [
       "Text(0.5, 0, 'Position on chromosome 1, kbs')"
      ]
     },
     "execution_count": 9,
     "metadata": {},
     "output_type": "execute_result"
    },
    {
     "data": {
      "image/png": "[encoded data removed]",
      "text/plain": [
       "<Figure size 1080x216 with 1 Axes>"
      ]
     },
     "metadata": {
      "needs_background": "light"
     },
     "output_type": "display_data"
    }
   ],
   "source": [
    "# plot a track of state changes along a subset of genome \n",
    "f, ax = plt.subplots(\n",
    "    figsize=(15, 3))\n",
    "plt.plot(\n",
    "    df_final.start[500:1200],\n",
    "    df_final.state[500:1200]);\n",
    "ax.set_xlabel('Position on chromosome 1, kbs')"
   ]
  },
  {
   "cell_type": "code",
   "execution_count": 10,
   "id": "5f72bad4-dfed-4ebb-819c-2de96189b40c",
   "metadata": {},
   "outputs": [
    {
     "data": {
      "image/png": "[encoded data removed]",
      "text/plain": [
       "<Figure size 432x144 with 1 Axes>"
      ]
     },
     "metadata": {
      "needs_background": "light"
     },
     "output_type": "display_data"
    },
    {
     "data": {
      "image/png": "[encoded data removed]",
      "text/plain": [
       "<Figure size 432x144 with 1 Axes>"
      ]
     },
     "metadata": {
      "needs_background": "light"
     },
     "output_type": "display_data"
    },
    {
     "data": {
      "image/png": "[encoded data removed]",
      "text/plain": [
       "<Figure size 432x144 with 1 Axes>"
      ]
     },
     "metadata": {
      "needs_background": "light"
     },
     "output_type": "display_data"
    },
    {
     "data": {
      "image/png": "[encoded data removed]",
      "text/plain": [
       "<Figure size 432x144 with 1 Axes>"
      ]
     },
     "metadata": {
      "needs_background": "light"
     },
     "output_type": "display_data"
    },
    {
     "data": {
      "image/png": "[encoded data removed]",
      "text/plain": [
       "<Figure size 432x144 with 1 Axes>"
      ]
     },
     "metadata": {
      "needs_background": "light"
     },
     "output_type": "display_data"
    },
    {
     "data": {
      "image/png": "[encoded data removed]",
      "text/plain": [
       "<Figure size 432x144 with 1 Axes>"
      ]
     },
     "metadata": {
      "needs_background": "light"
     },
     "output_type": "display_data"
    }
   ],
   "source": [
    "# plot the distibution of repli-seq signal for each state \n",
    "kws = dict(\n",
    "    range=(-2,2),\n",
    "    histtype='step',\n",
    "    bins=100\n",
    ")\n",
    "\n",
    "for i in range(6):\n",
    "    plt.figure(figsize=(6,2))\n",
    "    for j in range(6):\n",
    "        track = f'S{j}'\n",
    "        plt.hist(\n",
    "            df_final[df_final.state==i][track],\n",
    "            label=track,\n",
    "            **kws\n",
    "            )\n",
    "    plt.legend()\n",
    "    plt.title(f'State {i}')"
   ]
  },
  {
   "cell_type": "markdown",
   "id": "a16e8385-9d56-4672-9258-98670dddb797",
   "metadata": {},
   "source": [
    "## Saving the states "
   ]
  },
  {
   "cell_type": "code",
   "execution_count": 11,
   "id": "5e85cfc0-d5f2-4042-99b5-9915881f027d",
   "metadata": {},
   "outputs": [],
   "source": [
    "# states with higher values (5 and 6) apparently belong to early replicating regions, \n",
    "# while states with lower values (0 and 1) belong to late replicating regions. \n",
    "# This labelling is counter-intuituve and I will revert it before saving the files. "
   ]
  },
  {
   "cell_type": "code",
   "execution_count": 12,
   "id": "ada66381-cd8e-45f1-9da1-c0c18e0123c1",
   "metadata": {},
   "outputs": [],
   "source": [
    "mapping_dict = {}\n",
    "keys = range(6)\n",
    "for i, j in zip(keys, reversed(keys)):\n",
    "    mapping_dict[i] = j"
   ]
  },
  {
   "cell_type": "code",
   "execution_count": 13,
   "id": "dab1f9d0-b2d2-4d5a-8b63-148654e2bea0",
   "metadata": {},
   "outputs": [],
   "source": [
    "df_final[\"state\"] = df_final['state'].map(mapping_dict)"
   ]
  },
  {
   "cell_type": "code",
   "execution_count": 14,
   "id": "59a3d10e-21fc-4522-9891-4638844e4e89",
   "metadata": {},
   "outputs": [],
   "source": [
    "#resDir = './repli-seq/Dellino2013/deeptools/hmm_output/'\n",
    "#df_final.to_csv(os.path.join(resDir, f'repli-seq_hmm_states.bed'), sep = '\\t', header = True, index = None)"
   ]
  }
 ],
 "metadata": {
  "kernelspec": {
   "display_name": "Python 3 (ipykernel)",
   "language": "python",
   "name": "python3"
  },
  "language_info": {
   "codemirror_mode": {
    "name": "ipython",
    "version": 3
   },
   "file_extension": ".py",
   "mimetype": "text/x-python",
   "name": "python",
   "nbconvert_exporter": "python",
   "pygments_lexer": "ipython3",
   "version": "3.9.9"
  }
 },
 "nbformat": 4,
 "nbformat_minor": 5
}
