{
 "cells": [
  {
   "cell_type": "code",
   "execution_count": 1,
   "metadata": {},
   "outputs": [],
   "source": [
    "import os\n",
    "import numpy as np\n",
    "import pandas as pd\n",
    "import warnings\n",
    "import matplotlib as mpl\n",
    "import matplotlib.pyplot as plt\n",
    "from skimage.util.shape import view_as_windows\n",
    "import bioframe as bf\n",
    "import bbi"
   ]
  },
  {
   "cell_type": "code",
   "execution_count": 2,
   "metadata": {},
   "outputs": [],
   "source": [
    "# ignore log10(0) warnings\n",
    "warnings.simplefilter(\"ignore\", RuntimeWarning)"
   ]
  },
  {
   "cell_type": "markdown",
   "metadata": {},
   "source": [
    "## Set plotting parameters"
   ]
  },
  {
   "cell_type": "code",
   "execution_count": 11,
   "metadata": {},
   "outputs": [],
   "source": [
    "mpl.rcParams.update({'pdf.fonttype': 42,\n",
    "                     'ps.fonttype': 42,\n",
    "                     'xtick.labelsize': 32,\n",
    "                     'ytick.labelsize': 32, \n",
    "                     'axes.labelsize':32,\n",
    "                     'font.size': 22})"
   ]
  },
  {
   "cell_type": "markdown",
   "metadata": {},
   "source": [
    "## Upload cross-scores calculated at 10 kb resolution"
   ]
  },
  {
   "cell_type": "code",
   "execution_count": 4,
   "metadata": {},
   "outputs": [],
   "source": [
    "condition = 'WT'\n",
    "distance = '30000-1000000'\n",
    "\n",
    "chipMap = {\"cis_ref\" : f\"./ref/fc_1_2_3_4_Old.ref.10000.cross.both.{distance}.bw\",\n",
    "            \"cis_comp\" : f\"./comp/fc_1_2_3_4_Old.comp.10000.cross.both.{distance}.bw\",\n",
    "            \"trans_comp_ref\" : f\"./comp_ref/fc_1_2_3_4_Old.comp_ref.10000.cross.both.{distance}.bw\",\n",
    "             \"trans_ref_comp\" : f\"./ref_comp/fc_1_2_3_4_Old.ref_comp.10000.cross.both.{distance}.bw\"}"
   ]
  },
  {
   "cell_type": "markdown",
   "metadata": {},
   "source": [
    "## Upload SMC3 peaks and extend them to 1 Mb region of interest"
   ]
  },
  {
   "cell_type": "code",
   "execution_count": 5,
   "metadata": {},
   "outputs": [],
   "source": [
    "center = 'ProteinX'\n",
    "path = './data/MACS2/ProteinX.bed'\n",
    "window = 500000 "
   ]
  },
  {
   "cell_type": "code",
   "execution_count": 6,
   "metadata": {},
   "outputs": [
    {
     "data": {
      "text/html": [
       "<div>\n",
       "<style scoped>\n",
       "    .dataframe tbody tr th:only-of-type {\n",
       "        vertical-align: middle;\n",
       "    }\n",
       "\n",
       "    .dataframe tbody tr th {\n",
       "        vertical-align: top;\n",
       "    }\n",
       "\n",
       "    .dataframe thead th {\n",
       "        text-align: right;\n",
       "    }\n",
       "</style>\n",
       "<table border=\"1\" class=\"dataframe\">\n",
       "  <thead>\n",
       "    <tr style=\"text-align: right;\">\n",
       "      <th></th>\n",
       "      <th>chrom</th>\n",
       "      <th>start</th>\n",
       "      <th>end</th>\n",
       "      <th>mid</th>\n",
       "      <th>upper</th>\n",
       "      <th>lower</th>\n",
       "    </tr>\n",
       "  </thead>\n",
       "  <tbody>\n",
       "    <tr>\n",
       "      <th>0</th>\n",
       "      <td>chr1</td>\n",
       "      <td>9855</td>\n",
       "      <td>10614</td>\n",
       "      <td>10234</td>\n",
       "      <td>-489766</td>\n",
       "      <td>510234</td>\n",
       "    </tr>\n",
       "    <tr>\n",
       "      <th>1</th>\n",
       "      <td>chr1</td>\n",
       "      <td>10936</td>\n",
       "      <td>11845</td>\n",
       "      <td>11390</td>\n",
       "      <td>-488610</td>\n",
       "      <td>511390</td>\n",
       "    </tr>\n",
       "    <tr>\n",
       "      <th>2</th>\n",
       "      <td>chr1</td>\n",
       "      <td>15496</td>\n",
       "      <td>15732</td>\n",
       "      <td>15614</td>\n",
       "      <td>-484386</td>\n",
       "      <td>515614</td>\n",
       "    </tr>\n",
       "    <tr>\n",
       "      <th>3</th>\n",
       "      <td>chr1</td>\n",
       "      <td>90977</td>\n",
       "      <td>91957</td>\n",
       "      <td>91467</td>\n",
       "      <td>-408533</td>\n",
       "      <td>591467</td>\n",
       "    </tr>\n",
       "    <tr>\n",
       "      <th>4</th>\n",
       "      <td>chr1</td>\n",
       "      <td>104568</td>\n",
       "      <td>105527</td>\n",
       "      <td>105047</td>\n",
       "      <td>-394953</td>\n",
       "      <td>605047</td>\n",
       "    </tr>\n",
       "    <tr>\n",
       "      <th>...</th>\n",
       "      <td>...</td>\n",
       "      <td>...</td>\n",
       "      <td>...</td>\n",
       "      <td>...</td>\n",
       "      <td>...</td>\n",
       "      <td>...</td>\n",
       "    </tr>\n",
       "    <tr>\n",
       "      <th>34852</th>\n",
       "      <td>chrY</td>\n",
       "      <td>58994824</td>\n",
       "      <td>58995126</td>\n",
       "      <td>58994975</td>\n",
       "      <td>58494975</td>\n",
       "      <td>59494975</td>\n",
       "    </tr>\n",
       "    <tr>\n",
       "      <th>34853</th>\n",
       "      <td>chrY</td>\n",
       "      <td>58995181</td>\n",
       "      <td>58995371</td>\n",
       "      <td>58995276</td>\n",
       "      <td>58495276</td>\n",
       "      <td>59495276</td>\n",
       "    </tr>\n",
       "    <tr>\n",
       "      <th>34854</th>\n",
       "      <td>chrY</td>\n",
       "      <td>58996438</td>\n",
       "      <td>58996702</td>\n",
       "      <td>58996570</td>\n",
       "      <td>58496570</td>\n",
       "      <td>59496570</td>\n",
       "    </tr>\n",
       "    <tr>\n",
       "      <th>34855</th>\n",
       "      <td>chrY</td>\n",
       "      <td>58996849</td>\n",
       "      <td>58997207</td>\n",
       "      <td>58997028</td>\n",
       "      <td>58497028</td>\n",
       "      <td>59497028</td>\n",
       "    </tr>\n",
       "    <tr>\n",
       "      <th>34856</th>\n",
       "      <td>chrY</td>\n",
       "      <td>59001380</td>\n",
       "      <td>59001515</td>\n",
       "      <td>59001447</td>\n",
       "      <td>58501447</td>\n",
       "      <td>59501447</td>\n",
       "    </tr>\n",
       "  </tbody>\n",
       "</table>\n",
       "<p>34857 rows × 6 columns</p>\n",
       "</div>"
      ],
      "text/plain": [
       "      chrom     start       end       mid     upper     lower\n",
       "0      chr1      9855     10614     10234   -489766    510234\n",
       "1      chr1     10936     11845     11390   -488610    511390\n",
       "2      chr1     15496     15732     15614   -484386    515614\n",
       "3      chr1     90977     91957     91467   -408533    591467\n",
       "4      chr1    104568    105527    105047   -394953    605047\n",
       "...     ...       ...       ...       ...       ...       ...\n",
       "34852  chrY  58994824  58995126  58994975  58494975  59494975\n",
       "34853  chrY  58995181  58995371  58995276  58495276  59495276\n",
       "34854  chrY  58996438  58996702  58996570  58496570  59496570\n",
       "34855  chrY  58996849  58997207  58997028  58497028  59497028\n",
       "34856  chrY  59001380  59001515  59001447  58501447  59501447\n",
       "\n",
       "[34857 rows x 6 columns]"
      ]
     },
     "execution_count": 6,
     "metadata": {},
     "output_type": "execute_result"
    }
   ],
   "source": [
    "proteinX = pd.read_csv(path, sep = '\\t', index_col = False, header = None)[[0,1,2]]\n",
    "proteinX.columns = ['chrom', 'start', 'end']\n",
    "proteinX['mid'] = (proteinX.start + proteinX.end)//2\n",
    "proteinX['upper'] = proteinX.mid - window\n",
    "proteinX['lower'] = proteinX.mid + window\n",
    "proteinX"
   ]
  },
  {
   "cell_type": "markdown",
   "metadata": {},
   "source": [
    "## Calculate mean cross-score for each 10 kb bin within 1 Mb window with a center at SMC3 peak"
   ]
  },
  {
   "cell_type": "code",
   "execution_count": 7,
   "metadata": {},
   "outputs": [],
   "source": [
    "bins = 100\n",
    "cell_shape = (1,100)\n",
    "\n",
    "x_scores = {}\n",
    "\n",
    "for rType in ['cis_comp', 'cis_ref', 'trans_comp_ref', 'trans_ref_comp']: \n",
    "    x_scores[rType] = {}\n",
    "    x_score = bbi.stackup (chipMap[rType], proteinX.chrom, proteinX.upper, proteinX.lower, bins)\n",
    "    sections: np.ndarray = view_as_windows(x_score, cell_shape, cell_shape)\n",
    "    x_score = np.nanmean(sections, axis = (-2,-1))\n",
    "    x_scores[rType] = x_score"
   ]
  },
  {
   "cell_type": "markdown",
   "metadata": {},
   "source": [
    "## Calculate asymmetry for cis and trans cross scores"
   ]
  },
  {
   "cell_type": "code",
   "execution_count": 8,
   "metadata": {},
   "outputs": [],
   "source": [
    "asymmetry_cis = np.log2(x_scores['cis_comp']/x_scores['cis_ref']).flatten()\n",
    "asymmetry_cis = asymmetry_cis[np.isfinite(asymmetry_cis)]"
   ]
  },
  {
   "cell_type": "code",
   "execution_count": 9,
   "metadata": {},
   "outputs": [],
   "source": [
    "asymmetry_trans = np.log2(x_scores['trans_comp_ref']/x_scores['trans_ref_comp']).flatten()\n",
    "asymmetry_trans = asymmetry_trans[np.isfinite(asymmetry_trans)]"
   ]
  },
  {
   "cell_type": "markdown",
   "metadata": {},
   "source": [
    "## Plot asymmetry in cis and trans"
   ]
  },
  {
   "cell_type": "code",
   "execution_count": 12,
   "metadata": {},
   "outputs": [
    {
     "data": {
      "image/png": "[encoded data removed]",
      "text/plain": [
       "<Figure size 576x432 with 1 Axes>"
      ]
     },
     "metadata": {
      "needs_background": "light"
     },
     "output_type": "display_data"
    }
   ],
   "source": [
    "kws = dict(\n",
    "    bins=100,\n",
    "    histtype = 'bar'\n",
    ")\n",
    "\n",
    "colorMap = {'cis': '0', 'trans': '#ff6464'}\n",
    "\n",
    "f, axs = plt.subplots(\n",
    "    figsize=(8, 6),\n",
    "    nrows=1, \n",
    "    ncols=1)\n",
    "\n",
    "width = 0.05\n",
    "\n",
    "plt.hist(asymmetry_cis, \n",
    "         bins=np.arange(min(asymmetry_cis), max(asymmetry_cis) + width, width), \n",
    "         color = colorMap['cis'], \n",
    "         alpha = 0.75, \n",
    "         label = 'cis', \n",
    "         density=True)\n",
    "\n",
    "plt.hist(asymmetry_trans, \n",
    "         bins=np.arange(min(asymmetry_trans), max(asymmetry_trans) + width, width), \n",
    "         color = colorMap['trans'], \n",
    "         alpha = 0.75, \n",
    "         label = 'trans', \n",
    "         density=True);\n",
    "\n",
    "plt.gca().spines['left'].set_linewidth(4)\n",
    "plt.gca().spines['bottom'].set_linewidth(4)\n",
    "plt.gca().spines['top'].set_visible(False)\n",
    "plt.gca().spines['right'].set_visible(False)\n",
    "plt.tick_params('both', length=10, width=4, which='major')\n",
    "plt.xlim (-1, 2)\n",
    "plt.ylim (0, 5)\n",
    "plt.title (f'Asymmetry score at ProteinX sites, {condition}\\n') \n",
    "plt.xlabel ('Asymmetry score (log2)')\n",
    "plt.ylabel ('Density')\n",
    "plt.legend(bbox_to_anchor=(1.4, 1.05))\n",
    "plt.show();"
   ]
  }
 ],
 "metadata": {
  "kernelspec": {
   "display_name": "Python 3 (ipykernel)",
   "language": "python",
   "name": "python3"
  },
  "language_info": {
   "codemirror_mode": {
    "name": "ipython",
    "version": 3
   },
   "file_extension": ".py",
   "mimetype": "text/x-python",
   "name": "python",
   "nbconvert_exporter": "python",
   "pygments_lexer": "ipython3",
   "version": "3.9.9"
  }
 },
 "nbformat": 4,
 "nbformat_minor": 4
}
